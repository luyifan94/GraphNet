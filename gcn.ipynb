{
 "cells": [
  {
   "cell_type": "code",
   "execution_count": 3,
   "metadata": {},
   "outputs": [],
   "source": [
    "import pandas as pd\n",
    "import numpy as np\n",
    "\n",
    "import torch\n",
    "import torch.nn as nn\n",
    "import torch.nn.functional as F\n",
    "import torch.optim as optim"
   ]
  },
  {
   "cell_type": "code",
   "execution_count": 4,
   "metadata": {},
   "outputs": [],
   "source": [
    "class GCNLayer(nn.Module):\n",
    "    def __init__(self, A, in_feats, out_feats):\n",
    "        super(GCNLayer, self).__init__()\n",
    "        self.A_hat = A+torch.eye(A.size(0))\n",
    "        self.D = torch.diag(torch.sum(A,1))\n",
    "        self.D = self.D.inverse().sqrt()\n",
    "        self.W = nn.Parameter(torch.rand(in_feats, out_feats, requires_grad=True))\n",
    "\n",
    "    def forward(self, X):\n",
    "        out = torch.mm(torch.mm(self.D, self.A_hat), self.D)\n",
    "        out = torch.mm(out, X)\n",
    "        out = torch.mm(out, self.W)\n",
    "        out = torch.relu(out)\n",
    "        return out\n",
    "\n",
    "class GCN(nn.Module):\n",
    "    def __init__(self, A, in_feats, hide_feats, out_feats):\n",
    "        super(GCN, self).__init__()\n",
    "        self.gcn1 = GCNLayer(A, in_feats, hide_feats)\n",
    "        self.gcn2 = GCNLayer(A, hide_feats, out_feats)\n",
    "\n",
    "    def forward(self, X):\n",
    "        out = self.gcn1(X)\n",
    "        out = self.gcn2(out)\n",
    "        return out\n"
   ]
  },
  {
   "cell_type": "code",
   "execution_count": 5,
   "metadata": {},
   "outputs": [],
   "source": [
    "def load_cora():\n",
    "    raw_content = pd.read_csv('./data/cora/cora.content', sep='\\t', header=None)\n",
    "    num_nodes = raw_content.shape[0]\n",
    "\n",
    "    id = list(raw_content[0])\n",
    "    idx = list(raw_content.index)\n",
    "    id2idx = dict(zip(id, idx))\n",
    "\n",
    "    feat_data = raw_content.iloc[:, 1:-1]\n",
    "    feat_data = torch.FloatTensor(feat_data.values)\n",
    "    labels = pd.get_dummies(raw_content[1434])\n",
    "    labels = torch.FloatTensor(labels.values)\n",
    "\n",
    "    raw_cites = pd.read_csv('./data/cora/cora.cites', sep='\\t', header=None)\n",
    "\n",
    "    adj = np.zeros((num_nodes, num_nodes))\n",
    "    for i, j in zip(raw_cites[0], raw_cites[1]):\n",
    "        x = id2idx[i]\n",
    "        y = id2idx[j]\n",
    "        adj[x][y] = adj[y][x] = 1\n",
    "    adj = torch.FloatTensor(adj)\n",
    "    \n",
    "    return feat_data, labels, adj, id2idx\n"
   ]
  },
  {
   "cell_type": "code",
   "execution_count": 7,
   "metadata": {},
   "outputs": [],
   "source": [
    "feat_data, labels, adj, id2idx = load_cora()\n",
    "gcn_model = GCN(A=adj, in_feats=feat_data.shape[1], hide_feats=256, out_feats=128)\n",
    "out = gcn_model(feat_data)"
   ]
  },
  {
   "cell_type": "code",
   "execution_count": 8,
   "metadata": {},
   "outputs": [
    {
     "data": {
      "text/plain": [
       "tensor([[1476.1133, 1549.0864, 1572.0503,  ..., 1486.0237, 1546.4064,\n",
       "         1558.3378],\n",
       "        [1769.6311, 1852.2921, 1865.6219,  ..., 1771.0582, 1862.7021,\n",
       "         1864.8555],\n",
       "        [1482.4706, 1550.1504, 1565.7719,  ..., 1482.0724, 1554.6464,\n",
       "         1559.7914],\n",
       "        ...,\n",
       "        [2022.5492, 2108.3916, 2134.3616,  ..., 2033.2152, 2125.6111,\n",
       "         2133.7974],\n",
       "        [2351.2390, 2456.5281, 2482.4014,  ..., 2357.4795, 2459.8433,\n",
       "         2471.5010],\n",
       "        [2568.5979, 2677.4792, 2720.9409,  ..., 2573.4099, 2674.2449,\n",
       "         2707.1863]], grad_fn=<ReluBackward0>)"
      ]
     },
     "execution_count": 8,
     "metadata": {},
     "output_type": "execute_result"
    }
   ],
   "source": [
    "out"
   ]
  }
 ],
 "metadata": {
  "kernelspec": {
   "display_name": "Python 3.8.13 ('py38')",
   "language": "python",
   "name": "python3"
  },
  "language_info": {
   "codemirror_mode": {
    "name": "ipython",
    "version": 3
   },
   "file_extension": ".py",
   "mimetype": "text/x-python",
   "name": "python",
   "nbconvert_exporter": "python",
   "pygments_lexer": "ipython3",
   "version": "3.8.13"
  },
  "orig_nbformat": 4,
  "vscode": {
   "interpreter": {
    "hash": "694a5ca4ff500403e563beeba6426a1c919db37382c2fe6c52fb893497b50295"
   }
  }
 },
 "nbformat": 4,
 "nbformat_minor": 2
}
